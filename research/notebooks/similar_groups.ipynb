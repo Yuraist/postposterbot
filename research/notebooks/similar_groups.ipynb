{
 "cells": [
  {
   "cell_type": "markdown",
   "metadata": {
    "collapsed": true
   },
   "source": [
    "# Analysis of the Target Audience\n",
    "\n",
    "I have a [community](https://vk.com/therealtalkme) of developers, designers and marketers in the [vk.com](https://vk.com). The community has a few more than 1000 followers. They also follow other groups and communities which can give us some interesting information. Having information about this groups we can:\n",
    "1. Find a new audience that interested in our community.\n",
    "2. Learn what interests our users have.\n",
    "\n",
    "For this goals, I selected a list of groups and communities that have users similar to my community. The list is simple .csv file."
   ]
  },
  {
   "cell_type": "code",
   "execution_count": 1,
   "metadata": {},
   "outputs": [],
   "source": [
    "import os\n",
    "import pandas as pd\n",
    "import numpy as np"
   ]
  },
  {
   "cell_type": "code",
   "execution_count": 9,
   "metadata": {},
   "outputs": [],
   "source": [
    "file_path = '../../tmp/groups.csv'\n",
    "df = pd.read_csv(file_path)"
   ]
  },
  {
   "cell_type": "code",
   "execution_count": 11,
   "metadata": {},
   "outputs": [
    {
     "data": {
      "text/html": [
       "<div>\n",
       "<style scoped>\n",
       "    .dataframe tbody tr th:only-of-type {\n",
       "        vertical-align: middle;\n",
       "    }\n",
       "\n",
       "    .dataframe tbody tr th {\n",
       "        vertical-align: top;\n",
       "    }\n",
       "\n",
       "    .dataframe thead th {\n",
       "        text-align: right;\n",
       "    }\n",
       "</style>\n",
       "<table border=\"1\" class=\"dataframe\">\n",
       "  <thead>\n",
       "    <tr style=\"text-align: right;\">\n",
       "      <th></th>\n",
       "      <th>Name</th>\n",
       "      <th>Common users</th>\n",
       "      <th>ID</th>\n",
       "      <th>URL</th>\n",
       "    </tr>\n",
       "  </thead>\n",
       "  <tbody>\n",
       "    <tr>\n",
       "      <th>0</th>\n",
       "      <td>Яндекс</td>\n",
       "      <td>51</td>\n",
       "      <td>11283947</td>\n",
       "      <td>https://vk.com/club11283947</td>\n",
       "    </tr>\n",
       "    <tr>\n",
       "      <th>1</th>\n",
       "      <td>Роскосмос</td>\n",
       "      <td>22</td>\n",
       "      <td>30315369</td>\n",
       "      <td>https://vk.com/club30315369</td>\n",
       "    </tr>\n",
       "    <tr>\n",
       "      <th>2</th>\n",
       "      <td>AIESEC в России</td>\n",
       "      <td>10</td>\n",
       "      <td>28</td>\n",
       "      <td>https://vk.com/club28</td>\n",
       "    </tr>\n",
       "    <tr>\n",
       "      <th>3</th>\n",
       "      <td>The Village</td>\n",
       "      <td>21</td>\n",
       "      <td>4325149</td>\n",
       "      <td>https://vk.com/club4325149</td>\n",
       "    </tr>\n",
       "    <tr>\n",
       "      <th>4</th>\n",
       "      <td>Tesla Target. SMM для бизнеса</td>\n",
       "      <td>6</td>\n",
       "      <td>86171265</td>\n",
       "      <td>https://vk.com/club86171265</td>\n",
       "    </tr>\n",
       "  </tbody>\n",
       "</table>\n",
       "</div>"
      ],
      "text/plain": [
       "                            Name  Common users        ID  \\\n",
       "0                         Яндекс            51  11283947   \n",
       "1                      Роскосмос            22  30315369   \n",
       "2                AIESEC в России            10        28   \n",
       "3                    The Village            21   4325149   \n",
       "4  Tesla Target. SMM для бизнеса             6  86171265   \n",
       "\n",
       "                           URL  \n",
       "0  https://vk.com/club11283947  \n",
       "1  https://vk.com/club30315369  \n",
       "2        https://vk.com/club28  \n",
       "3   https://vk.com/club4325149  \n",
       "4  https://vk.com/club86171265  "
      ]
     },
     "execution_count": 11,
     "metadata": {},
     "output_type": "execute_result"
    }
   ],
   "source": [
    "df.head()"
   ]
  },
  {
   "cell_type": "code",
   "execution_count": 16,
   "metadata": {},
   "outputs": [
    {
     "data": {
      "text/html": [
       "<div>\n",
       "<style scoped>\n",
       "    .dataframe tbody tr th:only-of-type {\n",
       "        vertical-align: middle;\n",
       "    }\n",
       "\n",
       "    .dataframe tbody tr th {\n",
       "        vertical-align: top;\n",
       "    }\n",
       "\n",
       "    .dataframe thead th {\n",
       "        text-align: right;\n",
       "    }\n",
       "</style>\n",
       "<table border=\"1\" class=\"dataframe\">\n",
       "  <thead>\n",
       "    <tr style=\"text-align: right;\">\n",
       "      <th></th>\n",
       "      <th>Name</th>\n",
       "      <th>Common users</th>\n",
       "      <th>ID</th>\n",
       "      <th>URL</th>\n",
       "    </tr>\n",
       "  </thead>\n",
       "  <tbody>\n",
       "    <tr>\n",
       "      <th>661</th>\n",
       "      <td>Библиотека программиста</td>\n",
       "      <td>305</td>\n",
       "      <td>54530371</td>\n",
       "      <td>https://vk.com/club54530371</td>\n",
       "    </tr>\n",
       "    <tr>\n",
       "      <th>184</th>\n",
       "      <td>Типичный программист</td>\n",
       "      <td>302</td>\n",
       "      <td>30666517</td>\n",
       "      <td>https://vk.com/club30666517</td>\n",
       "    </tr>\n",
       "    <tr>\n",
       "      <th>34</th>\n",
       "      <td>Habr</td>\n",
       "      <td>282</td>\n",
       "      <td>20629724</td>\n",
       "      <td>https://vk.com/club20629724</td>\n",
       "    </tr>\n",
       "    <tr>\n",
       "      <th>261</th>\n",
       "      <td>Apple</td>\n",
       "      <td>239</td>\n",
       "      <td>35145657</td>\n",
       "      <td>https://vk.com/club35145657</td>\n",
       "    </tr>\n",
       "    <tr>\n",
       "      <th>958</th>\n",
       "      <td>iOS Ninja</td>\n",
       "      <td>190</td>\n",
       "      <td>92354563</td>\n",
       "      <td>https://vk.com/club92354563</td>\n",
       "    </tr>\n",
       "  </tbody>\n",
       "</table>\n",
       "</div>"
      ],
      "text/plain": [
       "                        Name  Common users        ID  \\\n",
       "661  Библиотека программиста           305  54530371   \n",
       "184     Типичный программист           302  30666517   \n",
       "34                      Habr           282  20629724   \n",
       "261                    Apple           239  35145657   \n",
       "958                iOS Ninja           190  92354563   \n",
       "\n",
       "                             URL  \n",
       "661  https://vk.com/club54530371  \n",
       "184  https://vk.com/club30666517  \n",
       "34   https://vk.com/club20629724  \n",
       "261  https://vk.com/club35145657  \n",
       "958  https://vk.com/club92354563  "
      ]
     },
     "execution_count": 16,
     "metadata": {},
     "output_type": "execute_result"
    }
   ],
   "source": [
    "df = df.sort_values('Common users', ascending=False)\n",
    "df.head()"
   ]
  },
  {
   "cell_type": "code",
   "execution_count": 17,
   "metadata": {},
   "outputs": [
    {
     "name": "stdout",
     "output_type": "stream",
     "text": [
      "<class 'pandas.core.frame.DataFrame'>\n",
      "Int64Index: 10401 entries, 661 to 10400\n",
      "Data columns (total 4 columns):\n",
      "Name            10400 non-null object\n",
      "Common users    10401 non-null int64\n",
      "ID              10401 non-null int64\n",
      "URL             10401 non-null object\n",
      "dtypes: int64(2), object(2)\n",
      "memory usage: 406.3+ KB\n"
     ]
    }
   ],
   "source": [
    "df.info()"
   ]
  },
  {
   "cell_type": "code",
   "execution_count": 18,
   "metadata": {},
   "outputs": [
    {
     "data": {
      "text/html": [
       "<div>\n",
       "<style scoped>\n",
       "    .dataframe tbody tr th:only-of-type {\n",
       "        vertical-align: middle;\n",
       "    }\n",
       "\n",
       "    .dataframe tbody tr th {\n",
       "        vertical-align: top;\n",
       "    }\n",
       "\n",
       "    .dataframe thead th {\n",
       "        text-align: right;\n",
       "    }\n",
       "</style>\n",
       "<table border=\"1\" class=\"dataframe\">\n",
       "  <thead>\n",
       "    <tr style=\"text-align: right;\">\n",
       "      <th></th>\n",
       "      <th>Common users</th>\n",
       "      <th>ID</th>\n",
       "    </tr>\n",
       "  </thead>\n",
       "  <tbody>\n",
       "    <tr>\n",
       "      <th>count</th>\n",
       "      <td>10401.000000</td>\n",
       "      <td>1.040100e+04</td>\n",
       "    </tr>\n",
       "    <tr>\n",
       "      <th>mean</th>\n",
       "      <td>8.481492</td>\n",
       "      <td>5.428093e+07</td>\n",
       "    </tr>\n",
       "    <tr>\n",
       "      <th>std</th>\n",
       "      <td>13.169015</td>\n",
       "      <td>3.248454e+07</td>\n",
       "    </tr>\n",
       "    <tr>\n",
       "      <th>min</th>\n",
       "      <td>3.000000</td>\n",
       "      <td>1.000000e+00</td>\n",
       "    </tr>\n",
       "    <tr>\n",
       "      <th>25%</th>\n",
       "      <td>3.000000</td>\n",
       "      <td>3.216516e+07</td>\n",
       "    </tr>\n",
       "    <tr>\n",
       "      <th>50%</th>\n",
       "      <td>5.000000</td>\n",
       "      <td>4.401792e+07</td>\n",
       "    </tr>\n",
       "    <tr>\n",
       "      <th>75%</th>\n",
       "      <td>8.000000</td>\n",
       "      <td>6.830999e+07</td>\n",
       "    </tr>\n",
       "    <tr>\n",
       "      <th>max</th>\n",
       "      <td>305.000000</td>\n",
       "      <td>1.646846e+08</td>\n",
       "    </tr>\n",
       "  </tbody>\n",
       "</table>\n",
       "</div>"
      ],
      "text/plain": [
       "       Common users            ID\n",
       "count  10401.000000  1.040100e+04\n",
       "mean       8.481492  5.428093e+07\n",
       "std       13.169015  3.248454e+07\n",
       "min        3.000000  1.000000e+00\n",
       "25%        3.000000  3.216516e+07\n",
       "50%        5.000000  4.401792e+07\n",
       "75%        8.000000  6.830999e+07\n",
       "max      305.000000  1.646846e+08"
      ]
     },
     "execution_count": 18,
     "metadata": {},
     "output_type": "execute_result"
    }
   ],
   "source": [
    "df.describe()"
   ]
  },
  {
   "cell_type": "code",
   "execution_count": null,
   "metadata": {},
   "outputs": [],
   "source": []
  }
 ],
 "metadata": {
  "kernelspec": {
   "display_name": "Python 3",
   "language": "python",
   "name": "python3"
  },
  "language_info": {
   "codemirror_mode": {
    "name": "ipython",
    "version": 3
   },
   "file_extension": ".py",
   "mimetype": "text/x-python",
   "name": "python",
   "nbconvert_exporter": "python",
   "pygments_lexer": "ipython3",
   "version": "3.6.5"
  }
 },
 "nbformat": 4,
 "nbformat_minor": 1
}
